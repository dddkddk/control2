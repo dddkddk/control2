{
 "cells": [
  {
   "cell_type": "code",
   "execution_count": 1,
   "source": [
    "import sys"
   ],
   "outputs": [],
   "metadata": {}
  },
  {
   "cell_type": "code",
   "execution_count": 2,
   "source": [
    "sys.path"
   ],
   "outputs": [
    {
     "output_type": "execute_result",
     "data": {
      "text/plain": [
       "['f:\\\\2021_2_lecture\\\\control2',\n",
       " 'c:\\\\Users\\\\shkim\\\\.vscode\\\\extensions\\\\ms-toolsai.jupyter-2021.8.1195043623\\\\pythonFiles',\n",
       " 'c:\\\\Users\\\\shkim\\\\.vscode\\\\extensions\\\\ms-toolsai.jupyter-2021.8.1195043623\\\\pythonFiles\\\\lib\\\\python',\n",
       " 'f:\\\\Anaconda3\\\\envs\\\\control\\\\python38.zip',\n",
       " 'f:\\\\Anaconda3\\\\envs\\\\control\\\\DLLs',\n",
       " 'f:\\\\Anaconda3\\\\envs\\\\control\\\\lib',\n",
       " 'f:\\\\Anaconda3\\\\envs\\\\control',\n",
       " '',\n",
       " 'f:\\\\Anaconda3\\\\envs\\\\control\\\\lib\\\\site-packages',\n",
       " 'f:\\\\Anaconda3\\\\envs\\\\control\\\\lib\\\\site-packages\\\\win32',\n",
       " 'f:\\\\Anaconda3\\\\envs\\\\control\\\\lib\\\\site-packages\\\\win32\\\\lib',\n",
       " 'f:\\\\Anaconda3\\\\envs\\\\control\\\\lib\\\\site-packages\\\\Pythonwin',\n",
       " 'f:\\\\Anaconda3\\\\envs\\\\control\\\\lib\\\\site-packages\\\\IPython\\\\extensions',\n",
       " 'C:\\\\Users\\\\shkim\\\\.ipython']"
      ]
     },
     "metadata": {},
     "execution_count": 2
    }
   ],
   "metadata": {}
  },
  {
   "cell_type": "code",
   "execution_count": 3,
   "source": [
    "sys.path[0]"
   ],
   "outputs": [
    {
     "output_type": "execute_result",
     "data": {
      "text/plain": [
       "'f:\\\\2021_2_lecture\\\\control2'"
      ]
     },
     "metadata": {},
     "execution_count": 3
    }
   ],
   "metadata": {}
  },
  {
   "cell_type": "code",
   "execution_count": 4,
   "source": [
    "sys.path[1]"
   ],
   "outputs": [
    {
     "output_type": "execute_result",
     "data": {
      "text/plain": [
       "'c:\\\\Users\\\\shkim\\\\.vscode\\\\extensions\\\\ms-toolsai.jupyter-2021.8.1195043623\\\\pythonFiles'"
      ]
     },
     "metadata": {},
     "execution_count": 4
    }
   ],
   "metadata": {}
  },
  {
   "cell_type": "code",
   "execution_count": 5,
   "source": [
    "sys.path.append('f:/')"
   ],
   "outputs": [],
   "metadata": {}
  },
  {
   "cell_type": "code",
   "execution_count": 6,
   "source": [
    "sys.path"
   ],
   "outputs": [
    {
     "output_type": "execute_result",
     "data": {
      "text/plain": [
       "['f:\\\\2021_2_lecture\\\\control2',\n",
       " 'c:\\\\Users\\\\shkim\\\\.vscode\\\\extensions\\\\ms-toolsai.jupyter-2021.8.1195043623\\\\pythonFiles',\n",
       " 'c:\\\\Users\\\\shkim\\\\.vscode\\\\extensions\\\\ms-toolsai.jupyter-2021.8.1195043623\\\\pythonFiles\\\\lib\\\\python',\n",
       " 'f:\\\\Anaconda3\\\\envs\\\\control\\\\python38.zip',\n",
       " 'f:\\\\Anaconda3\\\\envs\\\\control\\\\DLLs',\n",
       " 'f:\\\\Anaconda3\\\\envs\\\\control\\\\lib',\n",
       " 'f:\\\\Anaconda3\\\\envs\\\\control',\n",
       " '',\n",
       " 'f:\\\\Anaconda3\\\\envs\\\\control\\\\lib\\\\site-packages',\n",
       " 'f:\\\\Anaconda3\\\\envs\\\\control\\\\lib\\\\site-packages\\\\win32',\n",
       " 'f:\\\\Anaconda3\\\\envs\\\\control\\\\lib\\\\site-packages\\\\win32\\\\lib',\n",
       " 'f:\\\\Anaconda3\\\\envs\\\\control\\\\lib\\\\site-packages\\\\Pythonwin',\n",
       " 'f:\\\\Anaconda3\\\\envs\\\\control\\\\lib\\\\site-packages\\\\IPython\\\\extensions',\n",
       " 'C:\\\\Users\\\\shkim\\\\.ipython',\n",
       " 'f:/']"
      ]
     },
     "metadata": {},
     "execution_count": 6
    }
   ],
   "metadata": {}
  },
  {
   "cell_type": "code",
   "execution_count": 7,
   "source": [
    "sys.path.append('c:\\\\ST')"
   ],
   "outputs": [],
   "metadata": {}
  },
  {
   "cell_type": "code",
   "execution_count": 8,
   "source": [
    "sys.path"
   ],
   "outputs": [
    {
     "output_type": "execute_result",
     "data": {
      "text/plain": [
       "['f:\\\\2021_2_lecture\\\\control2',\n",
       " 'c:\\\\Users\\\\shkim\\\\.vscode\\\\extensions\\\\ms-toolsai.jupyter-2021.8.1195043623\\\\pythonFiles',\n",
       " 'c:\\\\Users\\\\shkim\\\\.vscode\\\\extensions\\\\ms-toolsai.jupyter-2021.8.1195043623\\\\pythonFiles\\\\lib\\\\python',\n",
       " 'f:\\\\Anaconda3\\\\envs\\\\control\\\\python38.zip',\n",
       " 'f:\\\\Anaconda3\\\\envs\\\\control\\\\DLLs',\n",
       " 'f:\\\\Anaconda3\\\\envs\\\\control\\\\lib',\n",
       " 'f:\\\\Anaconda3\\\\envs\\\\control',\n",
       " '',\n",
       " 'f:\\\\Anaconda3\\\\envs\\\\control\\\\lib\\\\site-packages',\n",
       " 'f:\\\\Anaconda3\\\\envs\\\\control\\\\lib\\\\site-packages\\\\win32',\n",
       " 'f:\\\\Anaconda3\\\\envs\\\\control\\\\lib\\\\site-packages\\\\win32\\\\lib',\n",
       " 'f:\\\\Anaconda3\\\\envs\\\\control\\\\lib\\\\site-packages\\\\Pythonwin',\n",
       " 'f:\\\\Anaconda3\\\\envs\\\\control\\\\lib\\\\site-packages\\\\IPython\\\\extensions',\n",
       " 'C:\\\\Users\\\\shkim\\\\.ipython',\n",
       " 'f:/',\n",
       " 'c:\\\\ST']"
      ]
     },
     "metadata": {},
     "execution_count": 8
    }
   ],
   "metadata": {}
  },
  {
   "cell_type": "code",
   "execution_count": null,
   "source": [],
   "outputs": [],
   "metadata": {}
  }
 ],
 "metadata": {
  "orig_nbformat": 4,
  "language_info": {
   "name": "python",
   "version": "3.8.11",
   "mimetype": "text/x-python",
   "codemirror_mode": {
    "name": "ipython",
    "version": 3
   },
   "pygments_lexer": "ipython3",
   "nbconvert_exporter": "python",
   "file_extension": ".py"
  },
  "kernelspec": {
   "name": "python3",
   "display_name": "Python 3.8.11 64-bit ('control': conda)"
  },
  "interpreter": {
   "hash": "a05c05df83bfe4c0aa36f7d2b0470f8c21d7a49516ff37fd273c37f46b7989de"
  }
 },
 "nbformat": 4,
 "nbformat_minor": 2
}